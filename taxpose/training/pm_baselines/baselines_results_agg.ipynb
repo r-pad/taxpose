{
 "cells": [
  {
   "cell_type": "code",
   "execution_count": null,
   "metadata": {},
   "outputs": [],
   "source": [
    "import pandas as pd\n",
    "import os\n",
    "import numpy as np"
   ]
  },
  {
   "attachments": {},
   "cell_type": "markdown",
   "metadata": {},
   "source": [
    "## Read from result directory and clean the data for Pandas"
   ]
  },
  {
   "cell_type": "code",
   "execution_count": null,
   "metadata": {},
   "outputs": [],
   "source": [
    "def clean_row(row):\n",
    "    cleaned = str(row).split(':')[-1].replace('[', '').replace(']', '').split()\n",
    "    return pd.Series(cleaned)"
   ]
  },
  {
   "cell_type": "code",
   "execution_count": null,
   "metadata": {},
   "outputs": [],
   "source": [
    "result_directory = '~/discriminative_embeddings/part_embedding/goal_inference/baselines_rotation/rollouts' # Insert your own directory\n",
    "\n",
    "def read_metrics(method_directory_name):\n",
    "    method_result = []\n",
    "    for goal_id in [0, 1, 2, 3]:\n",
    "        data = pd.read_csv(f'{result_directory}/{method_directory_name}_{goal_id}/rollout_goalinf_res.txt', sep=\",\", header=None)\n",
    "        cleaned_data = pd.DataFrame()\n",
    "        for i in range(len(data)):\n",
    "            cleaned_data.loc[i, ['0', '1', '2']] = data.iloc[i].apply(clean_row).astype('float').to_numpy().reshape(-1,)[:3]\n",
    "        method_result.append(cleaned_data.mean(axis=0))\n",
    "    method_result_table4 = np.array([i.astype('float').to_numpy() for i in method_result])\n",
    "    method_result_table4 = method_result_table4.mean(axis=0)\n",
    "    return method_result_table4"
   ]
  },
  {
   "attachments": {},
   "cell_type": "markdown",
   "metadata": {},
   "source": [
    "### 1. BC"
   ]
  },
  {
   "cell_type": "code",
   "execution_count": null,
   "metadata": {},
   "outputs": [],
   "source": [
    "bc_result_table4 = read_metrics('all_gc_bc_rotation_electric-wildflower-4') # Insert your own directory here"
   ]
  },
  {
   "attachments": {},
   "cell_type": "markdown",
   "metadata": {},
   "source": [
    "### 2. DAgger"
   ]
  },
  {
   "cell_type": "code",
   "execution_count": null,
   "metadata": {},
   "outputs": [],
   "source": [
    "dagger_result_table4 = read_metrics('dgcnn_dagger_rotation_vital-yogurt-2') # Insert your own directory here"
   ]
  },
  {
   "attachments": {},
   "cell_type": "markdown",
   "metadata": {},
   "source": [
    "### 3. Traj Flow"
   ]
  },
  {
   "cell_type": "code",
   "execution_count": null,
   "metadata": {},
   "outputs": [],
   "source": [
    "traj_result_table4 = read_metrics('all_dgcnn_traj_flow_rotation') # Insert your own directory here"
   ]
  },
  {
   "attachments": {},
   "cell_type": "markdown",
   "metadata": {},
   "source": [
    "### 4. Goal Flow"
   ]
  },
  {
   "cell_type": "code",
   "execution_count": null,
   "metadata": {},
   "outputs": [],
   "source": [
    "goal_result_table4 = read_metrics('goal_inference_naive_all_fcl_coll_helpful-flower-3') # Insert your own directory here"
   ]
  },
  {
   "cell_type": "code",
   "execution_count": null,
   "metadata": {},
   "outputs": [],
   "source": [
    "column_names = ['Average Rot Error', 'Averge Trans Error']\n",
    "meta_result_table4 = pd.DataFrame(columns=column_names)\n",
    "meta_result_table4.loc[0] = bc_result_table4[[2, 0]]\n",
    "meta_result_table4.loc[1] = dagger_result_table4[[2, 0]]\n",
    "meta_result_table4.loc[2] = traj_result_table4[[2, 0]]\n",
    "meta_result_table4.loc[3] = goal_result_table4[[2, 0]]\n",
    "row_names = ['E2E BC', 'E2E DAgger', 'Traj Flow', 'Goal Flow']\n",
    "meta_result_table4.index = row_names\n"
   ]
  },
  {
   "cell_type": "code",
   "execution_count": null,
   "metadata": {},
   "outputs": [],
   "source": [
    "meta_result_table4"
   ]
  },
  {
   "cell_type": "code",
   "execution_count": null,
   "metadata": {},
   "outputs": [],
   "source": []
  }
 ],
 "metadata": {
  "kernelspec": {
   "display_name": "flowbot",
   "language": "python",
   "name": "python3"
  },
  "language_info": {
   "codemirror_mode": {
    "name": "ipython",
    "version": 3
   },
   "file_extension": ".py",
   "mimetype": "text/x-python",
   "name": "python",
   "nbconvert_exporter": "python",
   "pygments_lexer": "ipython3",
   "version": "3.10.6"
  }
 },
 "nbformat": 4,
 "nbformat_minor": 2
}
