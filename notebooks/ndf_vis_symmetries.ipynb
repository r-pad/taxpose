{
 "cells": [
  {
   "cell_type": "code",
   "execution_count": null,
   "id": "e8b706cc-2522-4a18-b19b-4524e46eba6c",
   "metadata": {
    "tags": []
   },
   "outputs": [],
   "source": [
    "%load_ext autoreload\n",
    "%autoreload 2"
   ]
  },
  {
   "cell_type": "code",
   "execution_count": null,
   "id": "e137e89c-9780-4e92-ad5c-5b55521a10a5",
   "metadata": {
    "tags": []
   },
   "outputs": [],
   "source": [
    "import numpy as np\n",
    "from rpad.visualize_3d.plots import pointcloud_fig, flow_fig\n",
    "from rpad.visualize_3d.primitives import vector \n",
    "from taxpose.datasets.ndf import compute_symmetry_features\n",
    "import os"
   ]
  },
  {
   "cell_type": "code",
   "execution_count": null,
   "id": "7d3dc84d-a8de-48d3-ab61-0eb4459dfe63",
   "metadata": {
    "tags": []
   },
   "outputs": [],
   "source": [
    "d = \"/home/beisner/code/rpad/taxpose/notebooks/data\"\n",
    "ndf_grasp_data = np.load(os.path.join(d, \"ndfeval_grasp_data.npz\"))\n",
    "ndf_place_data = np.load(os.path.join(d, \"ndfeval_place_data.npz\"))\n",
    "dm_data = np.load(os.path.join(d, \"raweval_data.npz\"))"
   ]
  },
  {
   "cell_type": "code",
   "execution_count": null,
   "id": "6823803f-a80c-4710-94dd-f5fa08daa795",
   "metadata": {
    "tags": []
   },
   "outputs": [],
   "source": [
    "pointcloud_fig(\n",
    "    ndf_data[\"points_action_np\"],\n",
    "    downsample=1,\n",
    ")"
   ]
  },
  {
   "cell_type": "code",
   "execution_count": null,
   "id": "7460bf69-e35d-4425-8d42-e0f9539976aa",
   "metadata": {
    "tags": []
   },
   "outputs": [],
   "source": [
    "pointcloud_fig(\n",
    "    dm_data[\"points_action_np\"],\n",
    "    downsample=1,\n",
    ")"
   ]
  },
  {
   "cell_type": "code",
   "execution_count": null,
   "id": "3b0ec435-2b66-487e-ac16-da691aa3d741",
   "metadata": {
    "tags": []
   },
   "outputs": [],
   "source": [
    "pointcloud_fig(\n",
    "    ndf_data[\"points_anchor_np\"],\n",
    "    downsample=1,\n",
    ")"
   ]
  },
  {
   "cell_type": "code",
   "execution_count": null,
   "id": "5477b4e6-8f34-4f6b-ad18-7a064f8b1749",
   "metadata": {
    "tags": []
   },
   "outputs": [],
   "source": [
    "pointcloud_fig(\n",
    "    dm_data[\"points_anchor_np\"],\n",
    "    downsample=1,\n",
    ")"
   ]
  },
  {
   "cell_type": "code",
   "execution_count": null,
   "id": "65870788-a0a9-4b81-a6fa-454f2b8a09e7",
   "metadata": {
    "tags": []
   },
   "outputs": [],
   "source": [
    "\n",
    "dm_act_sym, dm_anc_sym, dm_act_rgb, dm_anc_rgb = compute_symmetry_features(\n",
    "    dm_data[\"points_action_np\"][None],\n",
    "    dm_data[\"points_anchor_np\"][None],\n",
    "    \"bottle\",\n",
    "    \"grasp\",\n",
    "    2,\n",
    "    0,\n",
    "    True,\n",
    "    skip_symmetry=False,\n",
    ")\n",
    "pointcloud_fig(\n",
    "    dm_data[\"points_action_np\"],\n",
    "    downsample=1,\n",
    "    colors=dm_act_rgb[0],\n",
    ").show()\n",
    "pointcloud_fig(\n",
    "    dm_data[\"points_anchor_np\"],\n",
    "    downsample=1,\n",
    "    colors=dm_anc_rgb[0],\n",
    ").show()"
   ]
  },
  {
   "cell_type": "code",
   "execution_count": null,
   "id": "0d0ebb77-88b6-4bb1-b1ff-012eb8a8c0c3",
   "metadata": {
    "tags": []
   },
   "outputs": [],
   "source": [
    "ndf_act_sym, ndf_anc_sym, ndf_act_rgb, ndf_anc_rgb = compute_symmetry_features(\n",
    "    ndf_data[\"points_action_np\"][None],\n",
    "    ndf_data[\"points_anchor_np\"][None],\n",
    "    \"bottle\",\n",
    "    \"grasp\",\n",
    "    2,\n",
    "    0,\n",
    "    True,\n",
    "    skip_symmetry=False,\n",
    ")\n",
    "pointcloud_fig(\n",
    "    ndf_data[\"points_action_np\"],\n",
    "    downsample=1,\n",
    "    colors=ndf_act_rgb[0],\n",
    ").show()\n",
    "pointcloud_fig(\n",
    "    ndf_data[\"points_anchor_np\"],\n",
    "    downsample=1,\n",
    "    colors=ndf_anc_rgb[0],\n",
    ").show()"
   ]
  },
  {
   "cell_type": "code",
   "execution_count": null,
   "id": "9f669fa6-70bf-41ee-9899-27904e77c9eb",
   "metadata": {},
   "outputs": [],
   "source": []
  },
  {
   "cell_type": "code",
   "execution_count": null,
   "id": "2c9b1904-02eb-4c7b-8f19-5fd2ed8c8e4a",
   "metadata": {
    "tags": []
   },
   "outputs": [],
   "source": [
    "from taxpose.datasets.symmetry_utils import scalars_to_rgb, gripper_symmetry_labels, rotational_symmetry_labels"
   ]
  },
  {
   "cell_type": "code",
   "execution_count": null,
   "id": "397689a7-2e37-4054-a6bf-0d913af890f9",
   "metadata": {
    "tags": []
   },
   "outputs": [],
   "source": [
    "g_sym_labels, g_axis, g_centroid = gripper_symmetry_labels(ndf_data[\"points_action_np\"])\n",
    "g_sym_colors = scalars_to_rgb(g_sym_labels)"
   ]
  },
  {
   "cell_type": "code",
   "execution_count": null,
   "id": "9c571db3-be86-49a9-983f-5e081cbb6df8",
   "metadata": {
    "tags": []
   },
   "outputs": [],
   "source": [
    "g_sym_labels, g_axis, g_centroid = gripper_symmetry_labels(ndf_data[\"points_action_np\"])\n",
    "g_sym_colors = scalars_to_rgb(g_sym_labels)\n",
    "\n",
    "fig = pointcloud_fig(\n",
    "    ndf_data[\"points_action_np\"],\n",
    "    downsample=1,\n",
    "    colors=g_sym_colors,\n",
    ")\n",
    "\n",
    "fig.add_trace(vector(*g_centroid, *g_axis, color=[0, 1, 0], scene=\"scene1\"))\n",
    "fig.show()"
   ]
  },
  {
   "cell_type": "code",
   "execution_count": null,
   "id": "852d5a64-0712-4167-88a9-85e7f35075d5",
   "metadata": {
    "tags": []
   },
   "outputs": [],
   "source": [
    "g_sym_labels, g_axis, g_centroid = gripper_symmetry_labels(dm_data[\"points_action_np\"])\n",
    "g_sym_colors = scalars_to_rgb(g_sym_labels)\n",
    "\n",
    "fig = pointcloud_fig(\n",
    "    dm_data[\"points_action_np\"],\n",
    "    downsample=1,\n",
    "    colors=g_sym_colors,\n",
    ")\n",
    "\n",
    "fig.add_trace(vector(*g_centroid, *g_axis, color=[0, 1, 0], scene=\"scene1\"))\n",
    "fig.show()"
   ]
  },
  {
   "cell_type": "code",
   "execution_count": null,
   "id": "eabe6b22-5870-40e6-a3d9-7a88c066b4a8",
   "metadata": {
    "tags": []
   },
   "outputs": [],
   "source": [
    "g_centroid.shape"
   ]
  },
  {
   "cell_type": "code",
   "execution_count": null,
   "id": "006f5fd7-83e2-42f0-be6f-59f9a4227002",
   "metadata": {
    "tags": []
   },
   "outputs": [],
   "source": [
    "ndf_data[\"points_anchor_np\"].shape"
   ]
  },
  {
   "cell_type": "code",
   "execution_count": null,
   "id": "6bd488b3-9955-4c94-9a44-2e0efd7f66a6",
   "metadata": {
    "tags": []
   },
   "outputs": [],
   "source": [
    "g_axis"
   ]
  },
  {
   "cell_type": "code",
   "execution_count": null,
   "id": "b4d8958e-a3c4-41ad-8d95-8a4788fd52cc",
   "metadata": {
    "tags": []
   },
   "outputs": [],
   "source": [
    "ndf_data[\"points_action_np\"].mean(axis=0)"
   ]
  },
  {
   "cell_type": "code",
   "execution_count": null,
   "id": "f3b9f42d-a48a-425d-a126-badad5cee82e",
   "metadata": {
    "tags": []
   },
   "outputs": [],
   "source": [
    "for i in range(3):\n",
    "    b_sym_labels, b_axis1, b_axis2, b_centroid = rotational_symmetry_labels(\n",
    "        ndf_data[\"points_anchor_np\"],\n",
    "        \"bowl\",\n",
    "        # g_centroid,\n",
    "    )\n",
    "    b_sym_colors = scalars_to_rgb(b_sym_labels)\n",
    "\n",
    "    fig = pointcloud_fig(\n",
    "        ndf_data[\"points_anchor_np\"],\n",
    "        downsample=1,\n",
    "        colors=b_sym_colors,\n",
    "    )\n",
    "\n",
    "    fig.add_trace(vector(*b_centroid, *b_axis1, color=[0, 1, 0], scene=\"scene1\"))\n",
    "    fig.add_trace(vector(*b_centroid, *b_axis2, color=[1, 0, 0], scene=\"scene1\"))\n",
    "    fig.show()"
   ]
  },
  {
   "cell_type": "code",
   "execution_count": null,
   "id": "6cfa949a-4916-4064-94f2-ccfff0006430",
   "metadata": {},
   "outputs": [],
   "source": []
  }
 ],
 "metadata": {
  "kernelspec": {
   "display_name": "Python 3 (ipykernel)",
   "language": "python",
   "name": "python3"
  },
  "language_info": {
   "codemirror_mode": {
    "name": "ipython",
    "version": 3
   },
   "file_extension": ".py",
   "mimetype": "text/x-python",
   "name": "python",
   "nbconvert_exporter": "python",
   "pygments_lexer": "ipython3",
   "version": "3.9.12"
  }
 },
 "nbformat": 4,
 "nbformat_minor": 5
}
