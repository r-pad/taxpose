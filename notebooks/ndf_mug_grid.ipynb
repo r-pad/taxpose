{
 "cells": [
  {
   "cell_type": "code",
   "execution_count": null,
   "metadata": {},
   "outputs": [],
   "source": [
    "!ls  /home/beisner/code/rpad/taxpose/logs/eval_mug_upright_10/2023-08-15/15-31-03/teleport_imgs/"
   ]
  },
  {
   "cell_type": "code",
   "execution_count": null,
   "metadata": {},
   "outputs": [],
   "source": [
    "# There are jpg images in src_dir. Let's visualize them\n",
    "\n",
    "import matplotlib.pyplot as plt\n",
    "import numpy as np\n",
    "import os\n",
    "\n",
    "src_dir = \"/home/beisner/code/rpad/taxpose/logs/eval_mug_upright_10/2023-08-15/15-31-03/teleport_imgs/\"\n",
    "\n",
    "# Load images\n",
    "imgs = []\n",
    "for img_name in [f\"post_teleport_{i}.png\" for i in range(100)]:\n",
    "    img = plt.imread(os.path.join(src_dir, img_name))\n",
    "    imgs.append(img)\n",
    "\n",
    "# Plot images in a 10x10 grid\n",
    "fig, axs = plt.subplots(10, 10, figsize=(10, 10))\n",
    "for i in range(10):\n",
    "    for j in range(10):\n",
    "\n",
    "\n",
    "        axs[i, j].imshow(imgs[i * 10 + j])\n",
    "        axs[i, j].axis(\"off\")\n",
    "\n",
    "        axs[i, j].set_xlim(350, 550)\n",
    "        axs[i, j].set_ylim(350, 150)\n",
    "\n",
    "        # Add a title to each axis\n",
    "        axs[i, j].set_title(f\"Image {i * 10 + j}\")\n",
    "plt.show()\n",
    "\n",
    "# Good Images:\n",
    "imgs = [6, 17, 19, 21, 25, 27, 34, 37, 48, 74]\n"
   ]
  },
  {
   "cell_type": "code",
   "execution_count": null,
   "metadata": {},
   "outputs": [],
   "source": [
    "imgs = [6, 17, 19, 21, 25, 27, 34, 37, 48, 74]\n",
    "\n",
    "from PIL import Image\n",
    "\n",
    "# make a 2x5 grid of images\n",
    "fig, axs = plt.subplots(2, 5, figsize=(10, 4))\n",
    "axs = axs.flatten()\n",
    "\n",
    "for i, img in enumerate(imgs):\n",
    "    axs[i].imshow(np.array(Image.open(f\"{src_dir}/post_teleport_{img}.png\")))\n",
    "    axs[i].axis(\"off\")\n",
    "    axs[i].set_xlim(350, 550)\n",
    "    axs[i].set_ylim(350, 150)\n",
    "\n",
    "plt.tight_layout()\n"
   ]
  },
  {
   "cell_type": "code",
   "execution_count": null,
   "metadata": {},
   "outputs": [],
   "source": []
  }
 ],
 "metadata": {
  "kernelspec": {
   "display_name": "taxpose_repro",
   "language": "python",
   "name": "python3"
  },
  "language_info": {
   "codemirror_mode": {
    "name": "ipython",
    "version": 3
   },
   "file_extension": ".py",
   "mimetype": "text/x-python",
   "name": "python",
   "nbconvert_exporter": "python",
   "pygments_lexer": "ipython3",
   "version": "3.9.12"
  }
 },
 "nbformat": 4,
 "nbformat_minor": 2
}
