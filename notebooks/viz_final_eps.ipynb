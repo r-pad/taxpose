{
 "cells": [
  {
   "cell_type": "code",
   "execution_count": null,
   "metadata": {
    "tags": []
   },
   "outputs": [],
   "source": [
    "%load_ext autoreload\n",
    "%autoreload 2"
   ]
  },
  {
   "cell_type": "code",
   "execution_count": null,
   "metadata": {
    "tags": []
   },
   "outputs": [],
   "source": [
    "# make a grid of 2x5 images of pngs, read from a folder\n",
    "\n",
    "import matplotlib.pyplot as plt\n",
    "\n",
    "import numpy as np\n",
    "import os\n",
    "\n",
    "from PIL import Image\n",
    "\n",
    "# path to folder with pngs\n",
    "path = os.path.expanduser(\"~/datasets/rlbench\")\n",
    "\n",
    "# task = \"put_toilet_roll_on_stand\"\n",
    "task = \"stack_wine\"\n",
    "# task = \"phone_on_base\"\n",
    "# task = \"insert_onto_square_peg\"\n",
    "# task = \"place_hanger_on_rack\"\n",
    "# task = \"solve_puzzle\"\n",
    "\n",
    "dirs = [os.path.join(path, task, \"variation0\", \"episodes\", f\"episode{i}\", \"overhead_rgb\") for i in range(10)]\n",
    "start_pngs = []\n",
    "end_pngs = []\n",
    "for d in dirs:\n",
    "    # The files have the format 1.png, 2.png, 3.png, etc.\n",
    "    # We want the last one, so we need a sort which is not lexicographic\n",
    "    files = os.listdir(d)\n",
    "\n",
    "    files = sorted(files, key=lambda x: int(x.split(\".\")[0]))\n",
    "    start_pngs.append(os.path.join(d, files[0]))\n",
    "    end_pngs.append(os.path.join(d, files[-1]))\n",
    "\n",
    "    # sort the files by \n",
    "    print(files[-1])\n",
    "\n",
    "# create a grid of 2x5 images\n",
    "fig, axs = plt.subplots(2, 5, figsize=(20, 10))\n",
    "axs = axs.flatten()\n",
    "\n",
    "for i, png in enumerate(start_pngs):\n",
    "    img = Image.open(png)\n",
    "    axs[i].imshow(img)\n",
    "    axs[i].axis(\"off\")\n",
    "\n",
    "    # Add a title to the image\n",
    "    axs[i].set_title(f\"Episode {i}\")\n",
    "\n",
    "# create a grid of 2x5 images\n",
    "fig, axs = plt.subplots(2, 5, figsize=(20, 10))\n",
    "axs = axs.flatten()\n",
    "\n",
    "for i, png in enumerate(end_pngs):\n",
    "    img = Image.open(png)\n",
    "    axs[i].imshow(img)\n",
    "    axs[i].axis(\"off\")\n",
    "\n",
    "    # Add a title to the image\n",
    "    axs[i].set_title(f\"Episode {i}\")\n",
    "\n",
    "\n"
   ]
  },
  {
   "cell_type": "code",
   "execution_count": null,
   "metadata": {},
   "outputs": [],
   "source": []
  },
  {
   "cell_type": "code",
   "execution_count": null,
   "metadata": {
    "tags": []
   },
   "outputs": [],
   "source": [
    "from taxpose.datasets.rlbench import RLBenchPointCloudDataset, RLBenchPointCloudDatasetConfig\n",
    "\n",
    "\n",
    "dset = RLBenchPointCloudDataset(cfg=RLBenchPointCloudDatasetConfig(\n",
    "    dataset_root=os.path.expanduser(\"~/datasets/rlbench\"),\n",
    "    # task_name=\"insert_onto_square_peg\",\n",
    "    # task_name=\"stack_wine\",\n",
    "    # task_name=\"put_toilet_roll_on_stand\",\n",
    "    # task_name=\"phone_on_base\",\n",
    "    # task_name=\"place_hanger_on_rack\",\n",
    "    task_name=\"solve_puzzle\",\n",
    "    episodes=[0, 1, 2, 3, 4, 5, 6, 7, 8, 9],\n",
    "    phase=\"place\",\n",
    ")) "
   ]
  },
  {
   "cell_type": "code",
   "execution_count": null,
   "metadata": {},
   "outputs": [],
   "source": [
    "for i in range(10):\n",
    "    print(dset[i]['points_action'].shape)"
   ]
  },
  {
   "cell_type": "code",
   "execution_count": null,
   "metadata": {
    "tags": []
   },
   "outputs": [],
   "source": [
    "import open3d as o3d\n",
    "import open3d.web_visualizer as w3d\n",
    "\n",
    "# for i in range(len(dset)):\n",
    "data = dset[0]\n",
    "\n",
    "pcd = o3d.geometry.PointCloud()\n",
    "\n",
    "\n",
    "\n",
    "# Yellow points\n",
    "pcd.points = o3d.utility.Vector3dVector(data[\"points_action\"][0])\n",
    "pcd.colors = o3d.utility.Vector3dVector(data[\"action_symmetry_rgb\"][0] / 255.0)\n",
    "\n",
    "pcd1 = o3d.geometry.PointCloud()\n",
    "\n",
    "# Red points\n",
    "pcd1.points = o3d.utility.Vector3dVector(data[\"points_anchor\"][0])\n",
    "pcd1.colors = o3d.utility.Vector3dVector(data[\"anchor_symmetry_rgb\"][0] / 255.0)\n",
    "\n",
    "# Draw the point clouds\n",
    "# o3d.visualization.draw_geometries([\n",
    "#     # pcd,\n",
    "#     pcd1,\n",
    "#     ])\n",
    "w3d.draw(pcd)"
   ]
  },
  {
   "cell_type": "code",
   "execution_count": null,
   "metadata": {},
   "outputs": [],
   "source": [
    "# Iterate through the dataset, and plot 2D renders of 3D point clouds in matplotlib.\n",
    "# We want to plot on 3D matplotlib axes.\n",
    "# Make a grid of 2 x 5\n",
    "\n",
    "import matplotlib.pyplot as plt\n",
    "from mpl_toolkits.mplot3d import Axes3D\n",
    "\n",
    "fig = plt.figure(figsize=(20, 10))\n",
    "axs = fig.subplots(2, 5, subplot_kw={\"projection\": \"3d\"})\n",
    "axs = axs.flatten()\n",
    "\n",
    "for i, data in enumerate(dset):\n",
    "    axs[i].scatter(data[\"points_anchor\"][0][:, 0], data[\"points_anchor\"][0][:, 1], data[\"points_anchor\"][0][:, 2], c=data[\"anchor_symmetry_rgb\"][0] / 255.0)\n",
    "    axs[i].scatter(data[\"points_action\"][0][:, 0], data[\"points_action\"][0][:, 1], data[\"points_action\"][0][:, 2], c=data[\"action_symmetry_rgb\"][0] / 255.0)\n",
    "\n",
    "    axs[i].set_title(f\"Episode {i}\")\n",
    "\n",
    "    # Get the combined points\n",
    "    points = np.concatenate([data[\"points_action\"][0], data[\"points_anchor\"][0]], axis=0)\n",
    "\n",
    "    # Set the axes limits\n",
    "    axs[i].set_xlim3d(points[:, 0].min(), points[:, 0].max())\n",
    "    axs[i].set_ylim3d(points[:, 1].min(), points[:, 1].max())\n",
    "    axs[i].set_zlim3d(points[:, 2].min(), points[:, 2].max())\n",
    "\n",
    "    # Remove the ticks\n",
    "    axs[i].set_xticks([])\n",
    "    axs[i].set_yticks([])\n",
    "    axs[i].set_zticks([])\n",
    "\n",
    "    # Remove the axes\n",
    "    axs[i].set_axis_off()"
   ]
  },
  {
   "cell_type": "code",
   "execution_count": null,
   "metadata": {},
   "outputs": [],
   "source": [
    "data[\"points_action\"][0][:, 0].min()"
   ]
  },
  {
   "cell_type": "code",
   "execution_count": null,
   "metadata": {},
   "outputs": [],
   "source": [
    "data[\"action_symmetry_features\"]"
   ]
  },
  {
   "cell_type": "code",
   "execution_count": null,
   "metadata": {},
   "outputs": [],
   "source": []
  }
 ],
 "metadata": {
  "kernelspec": {
   "display_name": "Python 3 (ipykernel)",
   "language": "python",
   "name": "python3"
  },
  "language_info": {
   "codemirror_mode": {
    "name": "ipython",
    "version": 3
   },
   "file_extension": ".py",
   "mimetype": "text/x-python",
   "name": "python",
   "nbconvert_exporter": "python",
   "pygments_lexer": "ipython3",
   "version": "3.9.12"
  }
 },
 "nbformat": 4,
 "nbformat_minor": 4
}
