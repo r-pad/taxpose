{
 "cells": [
  {
   "cell_type": "code",
   "execution_count": null,
   "metadata": {
    "tags": []
   },
   "outputs": [],
   "source": [
    "%load_ext autoreload\n",
    "%autoreload 2"
   ]
  },
  {
   "cell_type": "code",
   "execution_count": null,
   "metadata": {
    "tags": []
   },
   "outputs": [],
   "source": [
    "import os\n",
    "\n",
    "from rpad.pyg.dataset import CachedByKeyDataset\n",
    "from rpad.visualize_3d.plots import segmentation_fig\n",
    "import torch\n",
    "\n",
    "import taxpose.datasets.pm_placement as place"
   ]
  },
  {
   "cell_type": "markdown",
   "metadata": {},
   "source": [
    "# Define some common parameters."
   ]
  },
  {
   "cell_type": "code",
   "execution_count": null,
   "metadata": {
    "tags": []
   },
   "outputs": [],
   "source": [
    "scene_ids = [(\"11299\", \"ell\", \"0\", \"in\")]\n",
    "root = os.path.expanduser(\"~/datasets/partnet-mobility\")\n",
    "randomize_camera = True\n",
    "mode = \"obs\"\n",
    "snap_to_surface = True\n",
    "full_obj = True\n",
    "even_downsample = True\n",
    "rotate_anchor = True"
   ]
  },
  {
   "cell_type": "markdown",
   "metadata": {},
   "source": [
    "# Create a raw dataset, from which we can sample many different variations."
   ]
  },
  {
   "cell_type": "code",
   "execution_count": null,
   "metadata": {
    "tags": []
   },
   "outputs": [],
   "source": [
    "dset = place.PlaceDataset(\n",
    "    root=root,\n",
    "    scene_ids=scene_ids,\n",
    "    randomize_camera=randomize_camera,\n",
    "    mode=mode,\n",
    "    snap_to_surface=snap_to_surface,\n",
    "    full_obj=full_obj,\n",
    "    even_downsample=even_downsample,\n",
    "    rotate_anchor=rotate_anchor,\n",
    ")"
   ]
  },
  {
   "cell_type": "code",
   "execution_count": null,
   "metadata": {
    "tags": []
   },
   "outputs": [],
   "source": [
    "# Sample 3 different configurations, to show how the dataset is constructed.\n",
    "datas = [dset[0] for _ in range(3)]\n",
    "for data in datas:\n",
    "    pos = torch.cat([data.action_pos, data.anchor_pos], axis=0)\n",
    "    labels = torch.cat([torch.ones(len(data.action_pos)), torch.zeros(len(data.anchor_pos))], axis=0).int()\n",
    "    segmentation_fig(pos, labels).show()"
   ]
  },
  {
   "cell_type": "markdown",
   "metadata": {},
   "source": [
    "# Use a cached dataset instead!"
   ]
  },
  {
   "cell_type": "code",
   "execution_count": null,
   "metadata": {
    "tags": []
   },
   "outputs": [],
   "source": [
    "# We sample from the same distribution, but instead of making each worker sample\n",
    "# every time, we can pre-sample.\n",
    "cached_dset = CachedByKeyDataset(\n",
    "    dset_cls=place.PlaceDataset,\n",
    "    dset_kwargs={\n",
    "        \"root\": root,\n",
    "        \"randomize_camera\": randomize_camera,\n",
    "        \"snap_to_surface\": snap_to_surface,\n",
    "        \"full_obj\": full_obj,\n",
    "        \"even_downsample\": even_downsample,\n",
    "        \"rotate_anchor\": rotate_anchor,\n",
    "        \"scene_ids\": scene_ids,\n",
    "        \"mode\": mode,\n",
    "    },\n",
    "    data_keys=scene_ids,\n",
    "    root=root,\n",
    "    processed_dirname=place.PlaceDataset.processed_dir_name(\n",
    "        \"obs\",\n",
    "        randomize_camera,\n",
    "        snap_to_surface,\n",
    "        full_obj,\n",
    "        even_downsample,\n",
    "    ),\n",
    "    n_repeat=50,\n",
    "    n_workers=0,\n",
    "    n_proc_per_worker=2,\n",
    "    seed=123456,\n",
    ")"
   ]
  },
  {
   "cell_type": "code",
   "execution_count": null,
   "metadata": {
    "tags": []
   },
   "outputs": [],
   "source": [
    "# Sample 3 different configurations, to show how the dataset is constructed.\n",
    "datas = [cached_dset[i] for i in range(3)]\n",
    "for data in datas:\n",
    "    pos = torch.cat([data.action_pos, data.anchor_pos], axis=0)\n",
    "    labels = torch.cat([torch.ones(len(data.action_pos)), torch.zeros(len(data.anchor_pos))], axis=0).int()\n",
    "    segmentation_fig(pos, labels).show()"
   ]
  }
 ],
 "metadata": {
  "kernelspec": {
   "display_name": "Python 3 (ipykernel)",
   "language": "python",
   "name": "python3"
  },
  "language_info": {
   "codemirror_mode": {
    "name": "ipython",
    "version": 3
   },
   "file_extension": ".py",
   "mimetype": "text/x-python",
   "name": "python",
   "nbconvert_exporter": "python",
   "pygments_lexer": "ipython3",
   "version": "3.10.4"
  },
  "vscode": {
   "interpreter": {
    "hash": "cd17017743087b2ca0907e22cc9623e63c27868c239de0abab659b59413513bd"
   }
  }
 },
 "nbformat": 4,
 "nbformat_minor": 4
}
