{
 "cells": [
  {
   "cell_type": "code",
   "execution_count": null,
   "metadata": {},
   "outputs": [],
   "source": [
    "import pandas as pd\n",
    "import wandb\n",
    "import json"
   ]
  },
  {
   "cell_type": "code",
   "execution_count": null,
   "metadata": {},
   "outputs": [],
   "source": [
    "# Function which downloads the results from the W&B server\n",
    "def get_results_table(run_id, table_name):\n",
    "    api = wandb.Api()\n",
    "    json_file = api.artifact(f'r-pad/taxpose/run-{run_id}-{table_name}:v0').get_path(f'{table_name}.table.json').download()\n",
    "\n",
    "    # Get the config from the run\n",
    "    run = api.run(f'r-pad/taxpose/{run_id}')\n",
    "    config = run.config\n",
    "    \n",
    "    table_name = config[\"object_class\"][\"name\"]\n",
    "    model_name = config[\"model\"][\"name\"]\n",
    "\n",
    "    with open(json_file) as file:\n",
    "        json_dict = json.load(file)\n",
    "    df = pd.DataFrame(json_dict[\"data\"], columns=json_dict[\"columns\"])\n",
    "    \n",
    "    df.columns = pd.MultiIndex.from_product([[table_name], df.columns])\n",
    "\n",
    "    # Set the row index as model_name\n",
    "    df.index = [model_name]\n",
    "\n",
    "    return df"
   ]
  },
  {
   "cell_type": "code",
   "execution_count": null,
   "metadata": {},
   "outputs": [],
   "source": [
    "# Function which takes a list of results tables, and concatenates them into a single table with a multi-index.\n",
    "def concat_results(tables):\n",
    "    df = pd.concat(tables, axis=1)\n",
    "    return df"
   ]
  },
  {
   "cell_type": "code",
   "execution_count": null,
   "metadata": {},
   "outputs": [],
   "source": [
    "MLAT_IDS = [\n",
    "    \"jqyrs601\",  # Stack Wine\n",
    "    \"h7a9oxtp\",  # Put Toilet Roll on Stand\n",
    "    \"v075mup0\",  # Place Hanger on Rack\n",
    "    \"fpu8sirp\",  # Phone on Base\n",
    "    \"2rtpvbn3\",  # Insert Onto Square Base\n",
    "]\n",
    "\n",
    "TAXPOSE_IDS = [\n",
    "    \"xxecq5xe\",  # Stack Wine\n",
    "    \"dhkc7eva\",  # Put Toilet Roll on Stand\n",
    "    \"cs4gc0lg\",  # Place Hanger on Rack\n",
    "    \"tp9wuqcw\",  # Phone on Base\n",
    "    \"mae2i315\",  # Insert Onto Square Base\n",
    "\n",
    "]\n",
    "\n",
    "mlat_dfs_train = []\n",
    "mlat_dfs_val = []\n",
    "for run_id in MLAT_IDS:\n",
    "    mlat_dfs_train.append(get_results_table(run_id, \"train_metrics\"))\n",
    "    mlat_dfs_val.append(get_results_table(run_id, \"val_metrics\"))\n",
    "\n",
    "mlat_train_table = concat_results(mlat_dfs_train)\n",
    "mlat_val_table = concat_results(mlat_dfs_val)\n",
    "\n",
    "taxpose_dfs_train = []\n",
    "taxpose_dfs_val = []\n",
    "for run_id in TAXPOSE_IDS:\n",
    "    taxpose_dfs_train.append(get_results_table(run_id, \"train_metrics\"))\n",
    "    taxpose_dfs_val.append(get_results_table(run_id, \"val_metrics\"))\n",
    "\n",
    "taxpose_train_table = concat_results(taxpose_dfs_train)\n",
    "taxpose_val_table = concat_results(taxpose_dfs_val)\n",
    "\n",
    "full_train_table = pd.concat([taxpose_train_table, mlat_train_table], axis=0)\n",
    "full_train_table\n",
    "\n",
    "\n"
   ]
  },
  {
   "cell_type": "code",
   "execution_count": null,
   "metadata": {},
   "outputs": [],
   "source": [
    "print(full_train_table.style.format('{:.3f}').to_latex())"
   ]
  },
  {
   "cell_type": "code",
   "execution_count": null,
   "metadata": {},
   "outputs": [],
   "source": [
    "for df1, df2 in zip(taxpose_dfs_train, mlat_dfs_train):\n",
    "    # print(df1)\n",
    "    df = pd.concat([df1, df2], axis=0).droplevel(0, axis=1)\n",
    "    # print(df.style.format('{:.2f}').to_latex())\n",
    "    print(df.to_markdown())"
   ]
  },
  {
   "cell_type": "markdown",
   "metadata": {},
   "source": []
  },
  {
   "cell_type": "code",
   "execution_count": null,
   "metadata": {},
   "outputs": [],
   "source": [
    "print(full_train_table.to_markdown())"
   ]
  },
  {
   "cell_type": "code",
   "execution_count": null,
   "metadata": {},
   "outputs": [],
   "source": [
    "|               |   stack_wine |    |   put_toilet_roll_on_stand |    |   place_hanger_on_rack |   |   phone_on_base |    |   insert_onto_square_peg |    |\n",
    "|               |   angle_err |   t_err |   angle_err |   t_err |   angle_err |   t_err |   angle_err |   t_err |   angle_err |   t_err |\n",
    "|:--------------|------------------------------:|--------------------------:|--------------------------------------------:|----------------------------------------:|----------------------------------------:|------------------------------------:|---------------------------------:|-----------------------------:|------------------------------------------:|--------------------------------------:|\n",
    "| taxpose       |                      1.48548  |                0.00308973 |                                     1.17297 |                              0.001249   |                                5.47136  |                          0.0119683  |                         4.14353  |                   0.00543616 |                                   7.0977  |                            0.00351971 |\n",
    "| mlat_s256_vnn |                      0.764146 |                0.00122502 |                                     1.14988 |                              0.00134385 |                                0.623557 |                          0.00195536 |                         0.803998 |                   0.00106143 |                                   1.20883 |                            0.00328621 |"
   ]
  },
  {
   "cell_type": "code",
   "execution_count": null,
   "metadata": {},
   "outputs": [],
   "source": [
    "|               |  stack_wine\\\\ angle_err (°) |   t_err (mm) |   put_toilet_roll_on_stand\\\\ angle_err (°) |   t_err (mm) |   place_hanger_on_rack\\\\ angle_err (°) |   t_err (mm) |   phone_on_base\\\\ angle_err (°) |   t_err (mm) |   insert_onto_square_peg\\\\ angle_err (°) |   t_err (mm) |\n",
    "|:--------------|------------------------------:|--------------------------:|--------------------------------------------:|----------------------------------------:|----------------------------------------:|------------------------------------:|---------------------------------:|-----------------------------:|------------------------------------------:|--------------------------------------:|\n",
    "| TAX-Pose       |                      1.47  |                3.09 |                                     1.17 |                              **1.25**   |                                5.47  |                          12.0  |                         4.14  |                   5.43 |                                   7.10  |                            3.52 |\n",
    "| Ours (RelDist) |                      **0.76** |                **1.02** |                                     **1.15** |                              1.34 |                                **0.62** |                          **2.00** |                         **0.80** |                   **1.06** |                                   **1.21** |                            **3.29** |\n"
   ]
  },
  {
   "cell_type": "code",
   "execution_count": null,
   "metadata": {},
   "outputs": [],
   "source": [
    "full_val_table = pd.concat([taxpose_val_table, mlat_val_table], axis=0)\n",
    "full_val_table"
   ]
  },
  {
   "cell_type": "code",
   "execution_count": null,
   "metadata": {},
   "outputs": [],
   "source": [
    "t"
   ]
  },
  {
   "cell_type": "code",
   "execution_count": null,
   "metadata": {},
   "outputs": [],
   "source": [
    "concat_results(dfs_train)"
   ]
  },
  {
   "cell_type": "code",
   "execution_count": null,
   "metadata": {},
   "outputs": [],
   "source": [
    "# Create two sample DataFrames with MultiIndex columns\n",
    "data1 = {'A': [1, 2, 3],\n",
    "         'B': [4, 5, 6]}\n",
    "index1 = pd.MultiIndex.from_tuples([('Group1', 'X'), ('Group1', 'Y'), ('Group1', 'Z')], names=['Group', 'Subgroup'])\n",
    "df1 = pd.DataFrame(data1, index=index1)\n",
    "\n",
    "data2 = {'C': [7, 8, 9],\n",
    "         'D': [10, 11, 12]}\n",
    "index2 = pd.MultiIndex.from_tuples([('Group2', 'X'), ('Group2', 'Y'), ('Group2', 'Z')], names=['Group', 'Subgroup'])\n",
    "df2 = pd.DataFrame(data2, index=index2)\n",
    "\n",
    "# Concatenate the DataFrames column-wise\n",
    "result = pd.concat([df1, df2], axis=1)\n",
    "\n",
    "# Display the result\n",
    "print(result)"
   ]
  },
  {
   "cell_type": "code",
   "execution_count": null,
   "metadata": {},
   "outputs": [],
   "source": [
    "MLAT_ABLATION_IDS = [\n",
    "    \"zswyokhc\", # 1 demo\n",
    "    \"1hhy8jy8\", # 5 demos\n",
    "    \"ry1ggn0r\", # 10 demos\n",
    "]\n",
    "\n",
    "TAXPOSE_ABLATION_IDS = [\n",
    "    \"5do9r1ft\", # 1 demo\n",
    "    \"awbr16hl\", # 5 demos\n",
    "    \"n9likyeo\", # 10 demos\n",
    "]"
   ]
  },
  {
   "cell_type": "code",
   "execution_count": null,
   "metadata": {},
   "outputs": [],
   "source": [
    "taxpose_train_dfs = []\n",
    "taxpose_val_dfs = []\n",
    "\n",
    "for run_id in TAXPOSE_ABLATION_IDS:\n",
    "    taxpose_train_dfs.append(get_results_table(run_id, \"train_metrics\"))\n",
    "    taxpose_val_dfs.append(get_results_table(run_id, \"val_metrics\"))\n",
    "\n",
    "mlat_train_dfs = []\n",
    "mlat_val_dfs = []\n",
    "\n",
    "for run_id in MLAT_ABLATION_IDS:\n",
    "    mlat_train_dfs.append(get_results_table(run_id, \"train_metrics\"))\n",
    "    mlat_val_dfs.append(get_results_table(run_id, \"val_metrics\"))\n"
   ]
  },
  {
   "cell_type": "code",
   "execution_count": null,
   "metadata": {},
   "outputs": [],
   "source": [
    "# Create a table with only the angle error, where the index is the number of demonstrations.\n",
    "taxpose_train_table = concat_results(taxpose_train_dfs)\n",
    "taxpose_val_table = concat_results(taxpose_val_dfs)\n",
    "\n",
    "taxpose_train_table_angle = taxpose_train_table.xs(\"angle_err\", axis=1, level=1)\n",
    "taxpose_val_table_angle = taxpose_val_table.xs(\"angle_err\", axis=1, level=1)\n",
    "taxpose_train_table_t = taxpose_train_table.xs(\"t_err\", axis=1, level=1)\n",
    "taxpose_val_table_t = taxpose_val_table.xs(\"t_err\", axis=1, level=1)\n",
    "\n",
    "# Rename the columns to be the number of demonstrations\n",
    "taxpose_train_table_angle.columns = [1, 5, 10]\n",
    "taxpose_val_table_angle.columns = [1, 5, 10]\n",
    "taxpose_train_table_t.columns = [1, 5, 10]\n",
    "taxpose_val_table_t.columns = [1, 5, 10]\n",
    "\n",
    "# MLAT\n",
    "mlat_train_table = concat_results(mlat_train_dfs)\n",
    "mlat_val_table = concat_results(mlat_val_dfs)\n",
    "\n",
    "mlat_train_table_angle = mlat_train_table.xs(\"angle_err\", axis=1, level=1)\n",
    "mlat_val_table_angle = mlat_val_table.xs(\"angle_err\", axis=1, level=1)\n",
    "mlat_train_table_t = mlat_train_table.xs(\"t_err\", axis=1, level=1)\n",
    "mlat_val_table_t = mlat_val_table.xs(\"t_err\", axis=1, level=1)\n",
    "\n",
    "# Rename the columns to be the number of demonstrations\n",
    "mlat_train_table_angle.columns = [1, 5, 10]\n",
    "mlat_val_table_angle.columns = [1, 5, 10]\n",
    "mlat_train_table_t.columns = [1, 5, 10]\n",
    "mlat_val_table_t.columns = [1, 5, 10]\n",
    "\n",
    "# Concatenate the tables\n",
    "full_train_table_angle = pd.concat([taxpose_train_table_angle, mlat_train_table_angle], axis=0)\n",
    "full_val_table_angle = pd.concat([taxpose_val_table_angle, mlat_val_table_angle], axis=0)\n",
    "full_train_table_t = pd.concat([taxpose_train_table_t, mlat_train_table_t], axis=0)\n",
    "full_val_table_t = pd.concat([taxpose_val_table_t, mlat_val_table_t], axis=0)\n",
    "\n",
    "\n"
   ]
  },
  {
   "cell_type": "code",
   "execution_count": null,
   "metadata": {},
   "outputs": [],
   "source": [
    "full_train_table_angle"
   ]
  },
  {
   "cell_type": "code",
   "execution_count": null,
   "metadata": {},
   "outputs": [],
   "source": [
    "print(full_train_table_angle.to_markdown())"
   ]
  },
  {
   "cell_type": "code",
   "execution_count": null,
   "metadata": {},
   "outputs": [],
   "source": [
    "full_train_table_t"
   ]
  },
  {
   "cell_type": "code",
   "execution_count": null,
   "metadata": {},
   "outputs": [],
   "source": [
    "print(full_train_table_t.to_markdown())"
   ]
  },
  {
   "cell_type": "code",
   "execution_count": null,
   "metadata": {},
   "outputs": [],
   "source": [
    "full_val_table_angle"
   ]
  },
  {
   "cell_type": "code",
   "execution_count": null,
   "metadata": {},
   "outputs": [],
   "source": [
    "full_val_table_t"
   ]
  },
  {
   "cell_type": "code",
   "execution_count": null,
   "metadata": {},
   "outputs": [],
   "source": [
    "# Make two line plots of the angle error and translation error, with the number of demonstrations on the x-axis.\n",
    "import matplotlib.pyplot as plt\n",
    "fig = plt.figure(figsize=(10, 5))\n",
    "\n",
    "ax = fig.add_subplot(1, 2, 1)\n",
    "full_train_table_angle.T.plot(ax=ax)\n",
    "plt.title(\"Angle Error\")\n",
    "plt.ylabel(\"Angle Error (°)\")\n",
    "plt.xlabel(\"Number of Demonstrations\")\n",
    "plt.ylim(0, 5.5)\n",
    "\n",
    "plt.xticks([1, 5, 10])\n",
    "\n",
    "# Rename the lines on the legend\n",
    "lines = ax.get_lines()\n",
    "lines[0].set_label(\"TAX-Pose\")\n",
    "lines[1].set_label(\"Ours (RelDist)\")\n",
    "\n",
    "\n",
    "ax = fig.add_subplot(1, 2, 2)\n",
    "full_train_table_t.T.plot(ax=ax)\n",
    "plt.title(\"Translation Error\")\n",
    "plt.ylabel(\"Translation Error (mm)\")\n",
    "plt.xlabel(\"Number of Demonstrations\")\n",
    "plt.ylim(0, 0.0125)\n",
    "\n",
    "# Only plot ticks 1, 5, 10\n",
    "plt.xticks([1, 5, 10])\n",
    "\n"
   ]
  },
  {
   "cell_type": "code",
   "execution_count": null,
   "metadata": {},
   "outputs": [],
   "source": []
  }
 ],
 "metadata": {
  "kernelspec": {
   "display_name": "taxpose_repro",
   "language": "python",
   "name": "python3"
  },
  "language_info": {
   "codemirror_mode": {
    "name": "ipython",
    "version": 3
   },
   "file_extension": ".py",
   "mimetype": "text/x-python",
   "name": "python",
   "nbconvert_exporter": "python",
   "pygments_lexer": "ipython3",
   "version": "3.9.12"
  }
 },
 "nbformat": 4,
 "nbformat_minor": 2
}
