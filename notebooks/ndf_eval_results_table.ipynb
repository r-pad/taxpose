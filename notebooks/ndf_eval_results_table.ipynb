{
 "cells": [
  {
   "cell_type": "markdown",
   "metadata": {},
   "source": [
    "# NDF evaluation result aggregation"
   ]
  },
  {
   "cell_type": "code",
   "execution_count": null,
   "metadata": {
    "tags": []
   },
   "outputs": [],
   "source": [
    "import wandb\n",
    "import pandas as pd\n",
    "import json"
   ]
  },
  {
   "cell_type": "code",
   "execution_count": null,
   "metadata": {
    "tags": []
   },
   "outputs": [],
   "source": [
    "\n",
    "\n",
    "def get_results_table(run_id):\n",
    "    api = wandb.Api()\n",
    "    json_file = api.artifact(f'r-pad/taxpose/run-{run_id}-eval_results:v0').get_path('eval_results.table.json').download()\n",
    "    with open(json_file) as file:\n",
    "        json_dict = json.load(file)\n",
    "    return pd.DataFrame(json_dict[\"data\"], columns=json_dict[\"columns\"])"
   ]
  },
  {
   "cell_type": "code",
   "execution_count": null,
   "metadata": {
    "tags": []
   },
   "outputs": [],
   "source": [
    "df = get_results_table(\"1lhn802x\")\n",
    "df"
   ]
  },
  {
   "cell_type": "code",
   "execution_count": null,
   "metadata": {
    "tags": []
   },
   "outputs": [],
   "source": [
    "# Function to select the following columns from the dataframe:\n",
    "# Grasp, Place@0.00, Place@0.01, Place@0.02, Place@0.03 Place, Overall@0.00, Overall@0.01, Overall@0.02, Overall@0.03, Overall\n",
    "def select_columns(df):\n",
    "    return df[['Grasp', 'Place@0.0', 'Place@0.01', 'Place@0.02', 'Place@0.03', 'Place', 'Overall@0.0', 'Overall@0.01', 'Overall@0.02', 'Overall@0.03', 'Overall']]"
   ]
  },
  {
   "cell_type": "code",
   "execution_count": null,
   "metadata": {
    "tags": []
   },
   "outputs": [],
   "source": [
    "select_columns(df)"
   ]
  },
  {
   "cell_type": "code",
   "execution_count": null,
   "metadata": {
    "tags": []
   },
   "outputs": [],
   "source": [
    "cols = ['Grasp', 'Place@0.01', 'Place@0.03', 'Place',\n",
    "       'Overall@0.01',  'Overall@0.03',\n",
    "       'Overall']"
   ]
  },
  {
   "cell_type": "code",
   "execution_count": null,
   "metadata": {
    "tags": []
   },
   "outputs": [],
   "source": [
    "df.columns"
   ]
  },
  {
   "cell_type": "code",
   "execution_count": null,
   "metadata": {
    "tags": []
   },
   "outputs": [],
   "source": [
    "def merge_table(table1, table2):\n",
    "    \"\"\"Merge two tables by putting a slash between each cell.\n",
    "\n",
    "    Args:\n",
    "        table1 (pd.DataFrame): A table.\n",
    "        table2 (pd.DataFrame): A table.\n",
    "\n",
    "    Returns:\n",
    "        pd.DataFrame: A merged table.\n",
    "    \"\"\"\n",
    "    assert table1.shape == table2.shape\n",
    "    # create a new table to store the merged values\n",
    "    table1 = table1.copy()\n",
    "\n",
    "    # Iterate over the rows.\n",
    "    for i in range(table1.shape[0]):\n",
    "        # Iterate over the columns.\n",
    "        for j in range(table1.shape[1]):\n",
    "            # Merge the two cells.\n",
    "            table1.iloc[i, j] = f\"{table1.iloc[i, j]}/{table2.iloc[i, j]}\"\n",
    "    return table1\n"
   ]
  },
  {
   "cell_type": "code",
   "execution_count": null,
   "metadata": {
    "tags": []
   },
   "outputs": [],
   "source": [
    "merge_table(df, df)"
   ]
  },
  {
   "cell_type": "code",
   "execution_count": null,
   "metadata": {
    "tags": []
   },
   "outputs": [],
   "source": [
    "df"
   ]
  },
  {
   "cell_type": "code",
   "execution_count": null,
   "metadata": {
    "tags": []
   },
   "outputs": [],
   "source": [
    "# Mug - upright\n",
    "ids = [\"1earfvy7\", \"6iwbbui3\"]\n",
    "methods = [\"TAX-Pose\", \"Ours\"]\n",
    "\n",
    "# Get the dfs:\n",
    "dfs = [get_results_table(id) for id in ids]\n",
    "\n",
    "# Prune the dfs:\n",
    "dfs = [select_columns(df) for df in dfs]\n",
    "\n",
    "# Concatenate the dfs, and make methods the index.\n",
    "df_mug_upright = pd.concat(dfs, keys=methods)\n",
    "\n",
    "df_mug_upright\n"
   ]
  },
  {
   "cell_type": "code",
   "execution_count": null,
   "metadata": {
    "tags": []
   },
   "outputs": [],
   "source": [
    "df_mug = merge_table(df_mug_upright, df_mug_arbitrary)\n",
    "df_mug"
   ]
  },
  {
   "cell_type": "code",
   "execution_count": null,
   "metadata": {
    "tags": []
   },
   "outputs": [],
   "source": [
    "print(df_mug[cols].to_latex())\n"
   ]
  },
  {
   "cell_type": "code",
   "execution_count": null,
   "metadata": {
    "tags": []
   },
   "outputs": [],
   "source": [
    "# Mug - arbitrary\n",
    "ids = [\"oua2prpu\", \"mv78haro\"]\n",
    "methods = [\"TAX-Pose\", \"Ours\"]\n",
    "\n",
    "# Get the dfs:\n",
    "dfs = [get_results_table(id) for id in ids]\n",
    "\n",
    "# Prune the dfs:\n",
    "dfs = [select_columns(df) for df in dfs]\n",
    "\n",
    "# Concatenate the dfs, and make methods the index.\n",
    "df_mug_arbitrary = pd.concat(dfs, keys=methods)\n",
    "\n",
    "df_mug_arbitrary"
   ]
  },
  {
   "cell_type": "code",
   "execution_count": null,
   "metadata": {
    "tags": []
   },
   "outputs": [],
   "source": [
    "# Bottle - upright\n",
    "ids = [\"922blg3t\", \"98k2uzwf\"]\n",
    "methods = [\"TAX-Pose\", \"Ours\"]\n",
    "\n",
    "# Get the dfs:\n",
    "dfs = [get_results_table(id) for id in ids]\n",
    "\n",
    "# Prune the dfs:\n",
    "dfs = [select_columns(df) for df in dfs]\n",
    "\n",
    "# Concatenate the dfs, and make methods the index.\n",
    "df_bottle_upright = pd.concat(dfs, keys=methods)\n",
    "\n",
    "df_bottle_upright"
   ]
  },
  {
   "cell_type": "code",
   "execution_count": null,
   "metadata": {},
   "outputs": [],
   "source": [
    "print(df.to_markdown())"
   ]
  },
  {
   "cell_type": "code",
   "execution_count": null,
   "metadata": {},
   "outputs": [],
   "source": [
    "print(df.style.format(precision=2).to_latex())"
   ]
  },
  {
   "cell_type": "code",
   "execution_count": null,
   "metadata": {
    "tags": []
   },
   "outputs": [],
   "source": [
    "# Bottle - arbitrary\n",
    "ids = [\"86qjwjwa\", \"32dfgjg1\"]\n",
    "methods = [\"TAX-Pose\", \"Ours\"]\n",
    "\n",
    "# Get the dfs:\n",
    "dfs = [get_results_table(id) for id in ids]\n",
    "\n",
    "# Prune the dfs:\n",
    "dfs = [select_columns(df) for df in dfs]\n",
    "\n",
    "# Concatenate the dfs, and make methods the index.\n",
    "df_bottle_arbitrary = pd.concat(dfs, keys=methods)\n",
    "\n",
    "df_bottle_arbitrary"
   ]
  },
  {
   "cell_type": "code",
   "execution_count": null,
   "metadata": {
    "tags": []
   },
   "outputs": [],
   "source": [
    "df_bottle = merge_table(df_bottle_upright, df_bottle_arbitrary)\n",
    "df_bottle"
   ]
  },
  {
   "cell_type": "code",
   "execution_count": null,
   "metadata": {
    "tags": []
   },
   "outputs": [],
   "source": [
    "print(df_bottle[cols].to_latex())\n"
   ]
  },
  {
   "cell_type": "code",
   "execution_count": null,
   "metadata": {},
   "outputs": [],
   "source": [
    "print(df.to_markdown())"
   ]
  },
  {
   "cell_type": "code",
   "execution_count": null,
   "metadata": {},
   "outputs": [],
   "source": [
    "print(df.style.format(precision=2).to_latex())"
   ]
  },
  {
   "cell_type": "code",
   "execution_count": null,
   "metadata": {
    "tags": []
   },
   "outputs": [],
   "source": [
    "# Bowl - upright\n",
    "ids = [\"2p4k9lts\", \"awjq5lwj\"]\n",
    "methods = [\"TAX-Pose\", \"Ours\"]\n",
    "\n",
    "# Get the dfs:\n",
    "dfs = [get_results_table(id) for id in ids]\n",
    "\n",
    "# Prune the dfs:\n",
    "dfs = [select_columns(df) for df in dfs]\n",
    "\n",
    "# Concatenate the dfs, and make methods the index.\n",
    "df_bowl_upright = pd.concat(dfs, keys=methods)\n",
    "\n",
    "df_bowl_upright"
   ]
  },
  {
   "cell_type": "code",
   "execution_count": null,
   "metadata": {},
   "outputs": [],
   "source": [
    "print(df.to_markdown())"
   ]
  },
  {
   "cell_type": "code",
   "execution_count": null,
   "metadata": {},
   "outputs": [],
   "source": [
    "print(df.style.format(precision=2).to_latex())"
   ]
  },
  {
   "cell_type": "code",
   "execution_count": null,
   "metadata": {
    "tags": []
   },
   "outputs": [],
   "source": [
    "# Bowl - arbitrary\n",
    "ids = [\"ve3g0j19\", \"v0pzmw7i\"]\n",
    "methods = [\"TAX-Pose\", \"Ours\"]\n",
    "\n",
    "# Get the dfs:\n",
    "dfs = [get_results_table(id) for id in ids]\n",
    "\n",
    "# Prune the dfs:\n",
    "dfs = [select_columns(df) for df in dfs]\n",
    "\n",
    "# Concatenate the dfs, and make methods the index.\n",
    "df_bowl_arbitrary = pd.concat(dfs, keys=methods)\n",
    "\n",
    "df_bowl_arbitrary"
   ]
  },
  {
   "cell_type": "code",
   "execution_count": null,
   "metadata": {
    "tags": []
   },
   "outputs": [],
   "source": [
    "df_bowl = merge_table(df_bowl_upright, df_bowl_arbitrary)\n",
    "df_bowl"
   ]
  },
  {
   "cell_type": "code",
   "execution_count": null,
   "metadata": {
    "tags": []
   },
   "outputs": [],
   "source": [
    "print(df_bowl[cols].to_latex())"
   ]
  },
  {
   "cell_type": "code",
   "execution_count": null,
   "metadata": {},
   "outputs": [],
   "source": [
    "print(df.to_markdown())"
   ]
  },
  {
   "cell_type": "code",
   "execution_count": null,
   "metadata": {},
   "outputs": [],
   "source": [
    "print(df.style.format(precision=2).to_latex())"
   ]
  },
  {
   "cell_type": "code",
   "execution_count": null,
   "metadata": {},
   "outputs": [],
   "source": [
    "# SE(3) comparison\n",
    "ids = [\"uiemocd5\", \"ormuoxbj\"]\n",
    "methods = [\"TAX-Pose\", \"Ours\"]\n",
    "\n",
    "# Get the dfs:\n",
    "dfs = [get_results_table(id) for id in ids]\n",
    "\n",
    "# Prune the dfs:\n",
    "dfs = [select_columns(df) for df in dfs]\n",
    "\n",
    "# Concatenate the dfs, and make methods the index.\n",
    "df = pd.concat(dfs, keys=methods)\n",
    "\n",
    "df"
   ]
  },
  {
   "cell_type": "code",
   "execution_count": null,
   "metadata": {},
   "outputs": [],
   "source": [
    "print(df.to_markdown())"
   ]
  },
  {
   "cell_type": "code",
   "execution_count": null,
   "metadata": {},
   "outputs": [],
   "source": [
    "print(df.style.format(precision=2).to_latex())"
   ]
  },
  {
   "cell_type": "code",
   "execution_count": null,
   "metadata": {},
   "outputs": [],
   "source": [
    "# Write a function which takes a dataframe as input and returns a markdown table as output.\n",
    "def to_markdown(df):\n",
    "    df.to_markdown()"
   ]
  },
  {
   "cell_type": "code",
   "execution_count": null,
   "metadata": {},
   "outputs": [],
   "source": [
    "max_to_markdown(df)"
   ]
  },
  {
   "cell_type": "code",
   "execution_count": null,
   "metadata": {},
   "outputs": [],
   "source": [
    "# Write a function which bolds the largest number in each column of a markdown table.\n",
    "# def bold_largest_number(table):\n",
    "#     # Split the table into rows\n",
    "#     rows = table.split('\\n')\n",
    "#     # Split each row into columns\n",
    "#     columns = [row.split('|') for row in rows]\n",
    "#     # Remove the first and last columns\n",
    "#     columns = [column[1:-1] for column in columns]\n",
    "#     # Remove the first and last rows\n",
    "#     columns = columns[1:-1]\n",
    "#     # Convert each column to a list of integers\n",
    "#     columns = [[int(number) for number in column] for column in columns]\n",
    "#     # Find the largest number in each column\n",
    "#     largest_numbers = [max(column) for column in columns]\n",
    "#     # Replace the largest number in each column with a bold version of itself\n",
    "#     for i, largest_number in enumerate(largest_numbers):\n",
    "#         for j, number in enumerate(columns[i]):\n",
    "#             if number == largest_number:\n",
    "#                 columns[i][j] = f'**{number}**'\n",
    "#     # Convert each column back to a list of strings\n",
    "#     columns = [[str(number) for number in column] for column in columns]\n",
    "#     # Join each column back into a row\n",
    "#     rows = ['|'.join(column) for column in columns]\n",
    "#     # Join each row back into a table\n",
    "#     table = '\\n'.join(rows)\n",
    "#     # Return the table\n",
    "#     return table"
   ]
  },
  {
   "cell_type": "code",
   "execution_count": null,
   "metadata": {},
   "outputs": [],
   "source": [
    "print(df.to_markdown())"
   ]
  },
  {
   "cell_type": "code",
   "execution_count": null,
   "metadata": {},
   "outputs": [],
   "source": [
    "to_markdown_with_largest_bolded(df)"
   ]
  },
  {
   "cell_type": "code",
   "execution_count": null,
   "metadata": {},
   "outputs": [],
   "source": []
  }
 ],
 "metadata": {
  "kernelspec": {
   "display_name": "Python 3 (ipykernel)",
   "language": "python",
   "name": "python3"
  },
  "language_info": {
   "codemirror_mode": {
    "name": "ipython",
    "version": 3
   },
   "file_extension": ".py",
   "mimetype": "text/x-python",
   "name": "python",
   "nbconvert_exporter": "python",
   "pygments_lexer": "ipython3",
   "version": "3.9.12"
  }
 },
 "nbformat": 4,
 "nbformat_minor": 4
}
