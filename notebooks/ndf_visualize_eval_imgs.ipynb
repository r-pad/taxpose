{
 "cells": [
  {
   "cell_type": "code",
   "execution_count": null,
   "id": "82cc4ffc-e076-44bc-894d-dd2850a884cc",
   "metadata": {
    "tags": []
   },
   "outputs": [],
   "source": [
    "import os\n",
    "import numpy as np\n",
    "import matplotlib.pyplot as plt\n",
    "import PIL\n",
    "from mpl_toolkits.axes_grid1 import ImageGrid\n"
   ]
  },
  {
   "cell_type": "code",
   "execution_count": null,
   "id": "28ec50e2-b902-4217-ac9c-19d4cdab568b",
   "metadata": {
    "tags": []
   },
   "outputs": [],
   "source": [
    "\n",
    "# Taxpose, upright\n",
    "# eval_dir = \"/home/beisner/code/multi_project/taxpose/logs/ndf_evals/mug_upright_taxpose_(release)/2023-05-24_130144/10\"\n",
    "\n",
    "# MLat100, upright\n",
    "# eval_dir = \"/home/beisner/code/multi_project/taxpose/logs/ndf_evals/mug_upright_mlat_s100/2023-05-24_191149/10\"\n",
    "\n",
    "# MLat+VN, upright\n",
    "# eval_dir = \"/home/beisner/code/multi_project/taxpose/logs/ndf_evals/mug_upright_mlat_s256_vnn/2023-05-24_225144/10\"\n",
    "\n",
    "# Taxpose, arbitrary\n",
    "# eval_dir = \"/home/beisner/code/multi_project/taxpose/logs/ndf_evals/mug_arbitrary_taxpose_(release)/2023-05-24_132420/10\"\n",
    "\n",
    "# MLat100, arbitrary\n",
    "# eval_dir = \"/home/beisner/code/multi_project/taxpose/logs/ndf_evals/mug_arbitrary_mlat_s100/2023-05-24_210016/10\"\n",
    "\n",
    "# Mlat+VN, arbitrary\n",
    "# eval_dir = \"/home/beisner/code/multi_project/taxpose/logs/ndf_evals/mug_upright_mlat_s256_vnn/2023-05-24_225144/10\"\n",
    "\n",
    "# MLat100, upright, eval on\n",
    "eval_dir = \"/home/beisner/code/multi_project/taxpose/logs/ndf_evals/mug_upright_mlat_s100/2023-05-24_234831/10\"\n",
    "\n",
    "img_dir = os.path.join(eval_dir, \"teleport_imgs\")\n",
    "res_file = os.path.join(eval_dir, \"trial_99/success_rate_eval_implicit.npz\")\n",
    "results_dict = np.load(res_file)"
   ]
  },
  {
   "cell_type": "code",
   "execution_count": null,
   "id": "f78d7c1b-04ec-4d29-b004-fa0649660235",
   "metadata": {
    "tags": []
   },
   "outputs": [],
   "source": [
    "np.asarray(PIL.Image.open(os.path.join(img_dir, f\"teleport_{i}.png\"))).shape"
   ]
  },
  {
   "cell_type": "code",
   "execution_count": null,
   "id": "507cce75-32fd-41cf-bc60-d0e914c46170",
   "metadata": {
    "tags": []
   },
   "outputs": [],
   "source": [
    "fig = plt.figure(figsize=(32., 16.))\n",
    "\n",
    "grid = ImageGrid(fig, 111, nrows_ncols=(5, 20), share_all=True, axes_pad=0.3)\n",
    "grid[0].get_yaxis().set_ticks([])\n",
    "grid[0].get_xaxis().set_ticks([])\n",
    "\n",
    "for i, ax in enumerate(grid):\n",
    "    ax.imshow(PIL.Image.open(os.path.join(img_dir, f\"teleport_{i}.png\")))\n",
    "    ax.set_xlim(350, 550)\n",
    "    ax.set_ylim(350, 150)\n",
    "    \n",
    "    succ = results_dict[\"place_success_teleport_list\"][i]\n",
    "    ax.set_title(\"success\" if succ else \"fail\", color=\"blue\" if succ else \"red\")\n",
    "    \n",
    "plt.show()"
   ]
  },
  {
   "cell_type": "code",
   "execution_count": null,
   "id": "e72d7065-8c89-4af1-9520-08228a921c17",
   "metadata": {},
   "outputs": [],
   "source": []
  }
 ],
 "metadata": {
  "kernelspec": {
   "display_name": "Python 3 (ipykernel)",
   "language": "python",
   "name": "python3"
  },
  "language_info": {
   "codemirror_mode": {
    "name": "ipython",
    "version": 3
   },
   "file_extension": ".py",
   "mimetype": "text/x-python",
   "name": "python",
   "nbconvert_exporter": "python",
   "pygments_lexer": "ipython3",
   "version": "3.9.12"
  }
 },
 "nbformat": 4,
 "nbformat_minor": 5
}
