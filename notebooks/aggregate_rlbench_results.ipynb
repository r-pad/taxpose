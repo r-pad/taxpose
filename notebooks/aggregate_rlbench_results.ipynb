{
 "cells": [
  {
   "cell_type": "code",
   "execution_count": null,
   "metadata": {},
   "outputs": [],
   "source": [
    "%load_ext autoreload\n",
    "%autoreload 2"
   ]
  },
  {
   "cell_type": "code",
   "execution_count": null,
   "metadata": {},
   "outputs": [],
   "source": [
    "import wandb\n",
    "import pandas as pd\n",
    "import json"
   ]
  },
  {
   "cell_type": "code",
   "execution_count": null,
   "metadata": {},
   "outputs": [],
   "source": [
    "# For the following wandb run ids, download the results tables and present them as a df.\n",
    "\n",
    "# no colliison checking,\n",
    "# run_ids = [\n",
    "#     \"wrf9hzpf\",\n",
    "#     \"me0cnlhq\",\n",
    "#     \"3a3l59af\",\n",
    "#     \"4vc2ogr4\",\n",
    "#     \"ca47vr4g\",\n",
    "#     \"6kfacxc2\",\n",
    "#     \"yz9f3xv7\",\n",
    "#     \"4cn8q3ch\",\n",
    "#     \"ieyeei8l\",\n",
    "#     \"jxl4v41h\",\n",
    "# ]\n",
    "\n",
    "\n",
    "# These are run ids for runs with action repeat, no collision-checking\n",
    "run_ids = [\n",
    "    \"qw5uiwkh\",\n",
    "    \"g7eftjyc\",\n",
    "    \"40d2zf1f\",\n",
    "    \"1few52rl\",\n",
    "    \"4gt6apgc\",\n",
    "    \"7tnbl966\",\n",
    "    \"532p3esh\",\n",
    "    \"ztfm27yt\",\n",
    "    \"xuwwkznq\",\n",
    "    \"3qz1uzpj\",\n",
    "]\n"
   ]
  },
  {
   "cell_type": "code",
   "execution_count": null,
   "metadata": {},
   "outputs": [],
   "source": [
    "# Get the second run\n",
    "def get_results_table(run_id):\n",
    "    api = wandb.Api()\n",
    "    json_file = api.artifact(f'r-pad/taxpose/run-{run_id}-results_table:v0').get_entry('results_table.table.json').download()\n",
    "    with open(json_file) as file:\n",
    "        json_dict = json.load(file)\n",
    "    return pd.DataFrame(json_dict[\"data\"], columns=json_dict[\"columns\"])\n",
    "\n",
    "# Get the config from the run.\n",
    "def get_config(run_id):\n",
    "    api = wandb.Api()\n",
    "    run = api.run(f'r-pad/taxpose/{run_id}')\n",
    "    return run.config\n",
    "\n",
    "df = get_results_table(run_ids[1])\n",
    "df"
   ]
  },
  {
   "cell_type": "code",
   "execution_count": null,
   "metadata": {},
   "outputs": [],
   "source": [
    "display(df)"
   ]
  },
  {
   "cell_type": "code",
   "execution_count": null,
   "metadata": {},
   "outputs": [],
   "source": [
    "cfg = get_config(run_ids[1])"
   ]
  },
  {
   "cell_type": "code",
   "execution_count": null,
   "metadata": {},
   "outputs": [],
   "source": [
    "cfg[\"task\"][\"name\"]"
   ]
  },
  {
   "cell_type": "code",
   "execution_count": null,
   "metadata": {},
   "outputs": [],
   "source": [
    "for run_id in run_ids:\n",
    "    cfg = get_config(run_id)\n",
    "    print(f\"Run ID: {run_id}\")\n",
    "    print(f\"Task: {cfg['task']['name']}\")\n",
    "    try:\n",
    "        df = get_results_table(run_id)\n",
    "        display(df)\n",
    "        print(\"\\n\\n\")\n",
    "    except Exception as e:\n",
    "        print(\"did not complete\")"
   ]
  },
  {
   "cell_type": "code",
   "execution_count": null,
   "metadata": {},
   "outputs": [],
   "source": []
  }
 ],
 "metadata": {
  "kernelspec": {
   "display_name": "taxpose_repro",
   "language": "python",
   "name": "python3"
  },
  "language_info": {
   "codemirror_mode": {
    "name": "ipython",
    "version": 3
   },
   "file_extension": ".py",
   "mimetype": "text/x-python",
   "name": "python",
   "nbconvert_exporter": "python",
   "pygments_lexer": "ipython3",
   "version": "3.9.12"
  }
 },
 "nbformat": 4,
 "nbformat_minor": 2
}
