{
 "cells": [
  {
   "cell_type": "code",
   "execution_count": null,
   "metadata": {
    "tags": []
   },
   "outputs": [],
   "source": [
    "%load_ext autoreload\n",
    "%autoreload 2"
   ]
  },
  {
   "cell_type": "code",
   "execution_count": null,
   "metadata": {
    "tags": []
   },
   "outputs": [],
   "source": [
    "import numpy as np\n",
    "import rpad.visualize_3d.plots as pvp"
   ]
  },
  {
   "cell_type": "code",
   "execution_count": null,
   "metadata": {
    "tags": []
   },
   "outputs": [],
   "source": [
    "# pred_dir = \"../results/ndf/mug/upright/release/2023-05-03_152512/predictions\"\n",
    "# pred_dir = \"/home/beisner/code/rpad/taxpose/mug_place\"\n",
    "pred_dir = \"/home/beisner/code/multi_project/taxpose/results/ndf/mug/upright/release/2023-05-03_220706/repro_mug\"\n",
    "result_ix = 0"
   ]
  },
  {
   "cell_type": "code",
   "execution_count": null,
   "metadata": {
    "tags": []
   },
   "outputs": [],
   "source": [
    "def load_and_print(fn):\n",
    "    obj = np.load(fn)\n",
    "    print(fn)\n",
    "    for k, v in obj.items():\n",
    "        print(\"\\t\", k, v.shape)\n",
    "    return obj"
   ]
  },
  {
   "cell_type": "code",
   "execution_count": null,
   "metadata": {
    "tags": []
   },
   "outputs": [],
   "source": [
    "# These are all the files that get dumped.\n",
    "init_obj_pts = load_and_print(f\"{pred_dir}/{result_ix}_init_obj_points.npz\")\n",
    "# init_all_pts = load_and_print(f\"{pred_dir}/{result_ix}_init_all_points.npz\")\n",
    "# post_grasp_all_pts = load_and_print(f\"{pred_dir}/{result_ix}_post_grasp_all_points.npz\")\n",
    "post_grasp_obj_pts = load_and_print(f\"{pred_dir}/{result_ix}_post_grasp_obj_points.npz\")\n",
    "# post_teleport_all_pts = load_and_print(f\"{pred_dir}/{result_ix}_post_teleport_all_points.npz\")\n",
    "post_teleport_obj_pts = load_and_print(f\"{pred_dir}/{result_ix}_post_teleport_obj_points.npz\")\n",
    "# pre_grasp_all_pts = load_and_print(f\"{pred_dir}/{result_ix}_pre_grasp_all_points.npz\")\n",
    "pre_grasp_obj_pts = load_and_print(f\"{pred_dir}/{result_ix}_pre_grasp_obj_points.npz\")\n",
    "# teleport_all_pts = load_and_print(f\"{pred_dir}/{result_ix}_teleport_all_points.npz\")\n",
    "teleport_obj_pts = load_and_print(f\"{pred_dir}/{result_ix}_teleport_obj_points.npz\")"
   ]
  },
  {
   "cell_type": "code",
   "execution_count": null,
   "metadata": {
    "tags": []
   },
   "outputs": [],
   "source": [
    "from plotly.subplots import make_subplots\n",
    "import plotly.graph_objects as go\n",
    "\n",
    "fig = make_subplots(\n",
    "    rows=3,\n",
    "    cols=2, \n",
    "    subplot_titles=[\n",
    "        \"init_obj_points\",\n",
    "        \"pre_grasp_obj_points\",\n",
    "        \"post_grasp_obj_points\",\n",
    "        \"teleport_obj_points\",\n",
    "        \"post_teleport_obj_points\",\n",
    "    ],\n",
    "    specs=[\n",
    "        [{\"type\": \"scene\"}, None],\n",
    "        [{\"type\": \"scene\"}, {\"type\": \"scene\"}],\n",
    "        [{\"type\": \"scene\"}, {\"type\": \"scene\"}],\n",
    "    ],\n",
    "    horizontal_spacing=0.05,\n",
    "    vertical_spacing=0.05,\n",
    ")\n",
    "\n",
    "def add_seg_figure(data, labels, labelmap, scene, row, col):\n",
    "    traces = pvp._segmentation_traces(\n",
    "        data,\n",
    "        labels,\n",
    "        labelmap,\n",
    "        scene,\n",
    "        sizes=None\n",
    "    )\n",
    "\n",
    "    fig.add_traces(traces, rows=row, cols=col)\n",
    "    fig.update_layout(**{\n",
    "        scene:pvp._3d_scene(data),\n",
    "        \"showlegend\":True,\n",
    "        \"margin\":dict(l=0, r=0, b=0, t=40),\n",
    "        \"legend\":dict(x=1.0, y=0.75),\n",
    "    }\n",
    "    )\n",
    "    \n",
    "def add_inter_seg_figure(npz_dict, scene, row, col, k=8000):\n",
    "    ixs = np.random.permutation(len(npz_dict[\"clouds\"]))[:k]\n",
    "    add_seg_figure(\n",
    "        npz_dict[\"clouds\"][ixs],\n",
    "        labels=npz_dict[\"classes\"][ixs].astype(int),\n",
    "        labelmap={0: \"mug\", 2: \"gripper\", 1: \"rack\"},\n",
    "        scene=scene,\n",
    "        row=row,\n",
    "        col=col,\n",
    "    )\n",
    "\n",
    "# Input figure.\n",
    "add_seg_figure(\n",
    "    np.concatenate(\n",
    "    [\n",
    "        init_obj_pts[\"points_mug_raw\"],\n",
    "        init_obj_pts[\"points_gripper_raw\"],\n",
    "        init_obj_pts[\"points_rack_raw\"],\n",
    "    ],\n",
    "    axis=1,\n",
    "    ).squeeze(),\n",
    "    labels=np.repeat([0, 1, 2], [1024, 1024, 1024]),\n",
    "    labelmap={-1: \"background\", 0: \"mug\", 1: \"gripper\", 2: \"rack\"}, \n",
    "    scene=\"scene1\",\n",
    "    row=1,\n",
    "    col=1,\n",
    ")\n",
    "\n",
    "\n",
    "\n",
    "add_inter_seg_figure(pre_grasp_obj_pts, \"scene2\", 2, 1)\n",
    "add_inter_seg_figure(post_grasp_obj_pts, \"scene3\", 2, 2)\n",
    "add_inter_seg_figure(teleport_obj_pts, \"scene4\", 3, 1)\n",
    "add_inter_seg_figure(post_teleport_obj_pts, \"scene5\", 3, 2)\n",
    "\n",
    "fig.update_layout(\n",
    "    autosize=False,\n",
    "    width=1600,\n",
    "    height=2400,)\n"
   ]
  },
  {
   "cell_type": "code",
   "execution_count": null,
   "metadata": {
    "tags": []
   },
   "outputs": [],
   "source": [
    "fig.write_html(f\"{pred_dir}/{result_ix}.html\")"
   ]
  },
  {
   "cell_type": "code",
   "execution_count": null,
   "metadata": {},
   "outputs": [],
   "source": []
  }
 ],
 "metadata": {
  "kernelspec": {
   "display_name": "Python 3 (ipykernel)",
   "language": "python",
   "name": "python3"
  },
  "language_info": {
   "codemirror_mode": {
    "name": "ipython",
    "version": 3
   },
   "file_extension": ".py",
   "mimetype": "text/x-python",
   "name": "python",
   "nbconvert_exporter": "python",
   "pygments_lexer": "ipython3",
   "version": "3.9.12"
  }
 },
 "nbformat": 4,
 "nbformat_minor": 4
}
