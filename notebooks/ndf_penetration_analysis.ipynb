{
 "cells": [
  {
   "cell_type": "code",
   "execution_count": null,
   "id": "78d80778-5e18-494f-bc42-e553427eb4f3",
   "metadata": {
    "tags": []
   },
   "outputs": [],
   "source": [
    "import numpy as np\n",
    "import os"
   ]
  },
  {
   "cell_type": "code",
   "execution_count": null,
   "id": "29a6dfb0-a2da-4cd1-834d-4fc0eb68c5c7",
   "metadata": {
    "tags": []
   },
   "outputs": [],
   "source": [
    "import matplotlib.pyplot as plt"
   ]
  },
  {
   "cell_type": "code",
   "execution_count": null,
   "id": "49bd51eb-ed4e-40b6-8c73-4d42fb2eee5d",
   "metadata": {
    "tags": []
   },
   "outputs": [],
   "source": [
    "path = \"/home/beisner/code/multi_project/taxpose/logs/ndf_evals/mug_upright_mlat_s100/2023-05-26_002259/10\"\n",
    "res1 = np.load(os.path.join(path, \"trial_60/success_rate_eval_implicit.npz\"))\n",
    "plt.hist(res1[\"penetration_list\"], bins=100)\n",
    "plt.show()"
   ]
  },
  {
   "cell_type": "code",
   "execution_count": null,
   "id": "1e68321f-8acb-40ba-a5de-26d8c843faf7",
   "metadata": {
    "tags": []
   },
   "outputs": [],
   "source": [
    "path = \"/home/beisner/code/multi_project/taxpose/logs/ndf_evals/mug_upright_taxpose_(release)/2023-05-26_010902/10\"\n",
    "res2 = np.load(os.path.join(path, \"trial_99/success_rate_eval_implicit.npz\"))\n",
    "plt.hist(res2[\"penetration_list\"], bins=100)\n",
    "plt.show()"
   ]
  },
  {
   "cell_type": "code",
   "execution_count": null,
   "id": "48e18802-31be-419a-82cf-48f58e7b3ff5",
   "metadata": {
    "tags": []
   },
   "outputs": [],
   "source": [
    "x = np.linspace(0, max(max(res1[\"penetration_list\"]), max(res2[\"penetration_list\"])), 21)\n",
    "y1 = np.stack([np.logical_and(res1[\"place_success_teleport_list\"], res1[\"penetration_list\"] < c ) for c in x]).mean(axis=-1)\n",
    "y2 = np.stack([np.logical_and(res2[\"place_success_teleport_list\"], res2[\"penetration_list\"] < c ) for c in x]).mean(axis=-1)\n",
    "plt.plot(x, y1, label=\"multilateration\")\n",
    "plt.plot(x, y2, label=\"taxpose\")\n",
    "plt.xlabel(\"threshold for maximum allowed amount of intersection (cm)\")\n",
    "plt.ylabel(\"success rate at that threshold\")\n",
    "plt.legend()"
   ]
  },
  {
   "cell_type": "code",
   "execution_count": null,
   "id": "db9d2423-8c2d-4ac9-81fc-dbe3c8eefb12",
   "metadata": {
    "tags": []
   },
   "outputs": [],
   "source": [
    "y"
   ]
  },
  {
   "cell_type": "code",
   "execution_count": null,
   "id": "0fdc0bae-c089-46d5-b79f-46149334e602",
   "metadata": {
    "tags": []
   },
   "outputs": [],
   "source": [
    "x[1]"
   ]
  },
  {
   "cell_type": "code",
   "execution_count": null,
   "id": "b33d8ca2-8b5d-47df-a8d0-e9ce04ee2dbd",
   "metadata": {},
   "outputs": [],
   "source": []
  }
 ],
 "metadata": {
  "kernelspec": {
   "display_name": "Python 3 (ipykernel)",
   "language": "python",
   "name": "python3"
  },
  "language_info": {
   "codemirror_mode": {
    "name": "ipython",
    "version": 3
   },
   "file_extension": ".py",
   "mimetype": "text/x-python",
   "name": "python",
   "nbconvert_exporter": "python",
   "pygments_lexer": "ipython3",
   "version": "3.9.12"
  }
 },
 "nbformat": 4,
 "nbformat_minor": 5
}
